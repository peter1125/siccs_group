{
 "cells": [
  {
   "cell_type": "code",
   "execution_count": 1,
   "metadata": {},
   "outputs": [],
   "source": [
    "import pandas as pd\n",
    "import numpy as np\n",
    "from newsapi import NewsApiClient"
   ]
  },
  {
   "cell_type": "code",
   "execution_count": 2,
   "metadata": {},
   "outputs": [],
   "source": [
    "api = NewsApiClient(api_key='cc28045a00c346d6890733bb910137d1')"
   ]
  },
  {
   "cell_type": "code",
   "execution_count": 3,
   "metadata": {},
   "outputs": [],
   "source": [
    "all_articles = api.get_everything(q='chicago',\n",
    "                                      from_param='2019-05-25',\n",
    "                                      to='2019-06-25',\n",
    "                                      language='en',\n",
    "                                      sort_by='relevancy', page_size = 100)"
   ]
  },
  {
   "cell_type": "code",
   "execution_count": 4,
   "metadata": {},
   "outputs": [],
   "source": [
    "data = pd.DataFrame.from_dict(all_articles)"
   ]
  },
  {
   "cell_type": "code",
   "execution_count": 5,
   "metadata": {},
   "outputs": [
    {
     "data": {
      "text/html": [
       "<div>\n",
       "<style scoped>\n",
       "    .dataframe tbody tr th:only-of-type {\n",
       "        vertical-align: middle;\n",
       "    }\n",
       "\n",
       "    .dataframe tbody tr th {\n",
       "        vertical-align: top;\n",
       "    }\n",
       "\n",
       "    .dataframe thead th {\n",
       "        text-align: right;\n",
       "    }\n",
       "</style>\n",
       "<table border=\"1\" class=\"dataframe\">\n",
       "  <thead>\n",
       "    <tr style=\"text-align: right;\">\n",
       "      <th></th>\n",
       "      <th>status</th>\n",
       "      <th>totalResults</th>\n",
       "      <th>source</th>\n",
       "      <th>author</th>\n",
       "      <th>title</th>\n",
       "      <th>description</th>\n",
       "      <th>url</th>\n",
       "      <th>urlToImage</th>\n",
       "      <th>publishedAt</th>\n",
       "      <th>content</th>\n",
       "    </tr>\n",
       "  </thead>\n",
       "  <tbody>\n",
       "    <tr>\n",
       "      <th>0</th>\n",
       "      <td>ok</td>\n",
       "      <td>27470</td>\n",
       "      <td>{'id': None, 'name': 'Thetakeout.com'}</td>\n",
       "      <td>Jessica Cantarelli on The Takeout, shared by V...</td>\n",
       "      <td>We sell our pizzas for $16.50. Here's how the ...</td>\n",
       "      <td>The day my boyfriend put giardiniera on a pizz...</td>\n",
       "      <td>https://thetakeout.com/the-cost-breakdown-of-a...</td>\n",
       "      <td>https://i.kinja-img.com/gawker-media/image/upl...</td>\n",
       "      <td>2019-06-13T16:03:00Z</td>\n",
       "      <td>The day my boyfriend put giardiniera on a pizz...</td>\n",
       "    </tr>\n",
       "    <tr>\n",
       "      <th>1</th>\n",
       "      <td>ok</td>\n",
       "      <td>27470</td>\n",
       "      <td>{'id': None, 'name': 'Thetakeout.com'}</td>\n",
       "      <td>Kevin Pang on The Takeout, shared by Virginia ...</td>\n",
       "      <td>A chilaquiles private lesson with Rick Bayless</td>\n",
       "      <td>An e-mail arrived in my inbox a few weeks ago,...</td>\n",
       "      <td>https://thetakeout.com/recipe-a-chilaquiles-pr...</td>\n",
       "      <td>https://i.kinja-img.com/gawker-media/image/upl...</td>\n",
       "      <td>2019-06-21T00:45:00Z</td>\n",
       "      <td>An e-mail arrived in my inbox a few weeks ago,...</td>\n",
       "    </tr>\n",
       "    <tr>\n",
       "      <th>2</th>\n",
       "      <td>ok</td>\n",
       "      <td>27470</td>\n",
       "      <td>{'id': 'the-new-york-times', 'name': 'The New ...</td>\n",
       "      <td>Manny Fernandez</td>\n",
       "      <td>Whataburger Got Sold to Chicago. Texas Is Flip...</td>\n",
       "      <td>Texas is reeling from the news that a Chicago ...</td>\n",
       "      <td>https://www.nytimes.com/2019/06/20/us/texas-wh...</td>\n",
       "      <td>https://static01.nyt.com/images/2019/06/20/us/...</td>\n",
       "      <td>2019-06-20T22:46:01Z</td>\n",
       "      <td>Texans have a hard time supplying a definitive...</td>\n",
       "    </tr>\n",
       "    <tr>\n",
       "      <th>3</th>\n",
       "      <td>ok</td>\n",
       "      <td>27470</td>\n",
       "      <td>{'id': 'the-new-york-times', 'name': 'The New ...</td>\n",
       "      <td>Julia Jacobs</td>\n",
       "      <td>How Emma Boettcher Beat James Holzhauer on ‘Je...</td>\n",
       "      <td>The 27-year-old librarian from Chicago dethron...</td>\n",
       "      <td>https://www.nytimes.com/2019/06/03/arts/televi...</td>\n",
       "      <td>https://static01.nyt.com/images/2019/05/31/art...</td>\n",
       "      <td>2019-06-03T23:41:32Z</td>\n",
       "      <td>I was trying just not to dwell on it, Boettche...</td>\n",
       "    </tr>\n",
       "    <tr>\n",
       "      <th>4</th>\n",
       "      <td>ok</td>\n",
       "      <td>27470</td>\n",
       "      <td>{'id': 'cnn', 'name': 'CNN'}</td>\n",
       "      <td>None</td>\n",
       "      <td>Police footage shows Smollett with noose aroun...</td>\n",
       "      <td>Chicago police have released dozens of hours o...</td>\n",
       "      <td>https://www.cnn.com/videos/us/2019/06/24/polic...</td>\n",
       "      <td>https://cdn.cnn.com/cnnnext/dam/assets/1903311...</td>\n",
       "      <td>2019-06-24T23:24:01Z</td>\n",
       "      <td>Chat with us in Facebook Messenger. Find out w...</td>\n",
       "    </tr>\n",
       "  </tbody>\n",
       "</table>\n",
       "</div>"
      ],
      "text/plain": [
       "  status  totalResults                                             source  \\\n",
       "0     ok         27470             {'id': None, 'name': 'Thetakeout.com'}   \n",
       "1     ok         27470             {'id': None, 'name': 'Thetakeout.com'}   \n",
       "2     ok         27470  {'id': 'the-new-york-times', 'name': 'The New ...   \n",
       "3     ok         27470  {'id': 'the-new-york-times', 'name': 'The New ...   \n",
       "4     ok         27470                       {'id': 'cnn', 'name': 'CNN'}   \n",
       "\n",
       "                                              author  \\\n",
       "0  Jessica Cantarelli on The Takeout, shared by V...   \n",
       "1  Kevin Pang on The Takeout, shared by Virginia ...   \n",
       "2                                    Manny Fernandez   \n",
       "3                                       Julia Jacobs   \n",
       "4                                               None   \n",
       "\n",
       "                                               title  \\\n",
       "0  We sell our pizzas for $16.50. Here's how the ...   \n",
       "1     A chilaquiles private lesson with Rick Bayless   \n",
       "2  Whataburger Got Sold to Chicago. Texas Is Flip...   \n",
       "3  How Emma Boettcher Beat James Holzhauer on ‘Je...   \n",
       "4  Police footage shows Smollett with noose aroun...   \n",
       "\n",
       "                                         description  \\\n",
       "0  The day my boyfriend put giardiniera on a pizz...   \n",
       "1  An e-mail arrived in my inbox a few weeks ago,...   \n",
       "2  Texas is reeling from the news that a Chicago ...   \n",
       "3  The 27-year-old librarian from Chicago dethron...   \n",
       "4  Chicago police have released dozens of hours o...   \n",
       "\n",
       "                                                 url  \\\n",
       "0  https://thetakeout.com/the-cost-breakdown-of-a...   \n",
       "1  https://thetakeout.com/recipe-a-chilaquiles-pr...   \n",
       "2  https://www.nytimes.com/2019/06/20/us/texas-wh...   \n",
       "3  https://www.nytimes.com/2019/06/03/arts/televi...   \n",
       "4  https://www.cnn.com/videos/us/2019/06/24/polic...   \n",
       "\n",
       "                                          urlToImage           publishedAt  \\\n",
       "0  https://i.kinja-img.com/gawker-media/image/upl...  2019-06-13T16:03:00Z   \n",
       "1  https://i.kinja-img.com/gawker-media/image/upl...  2019-06-21T00:45:00Z   \n",
       "2  https://static01.nyt.com/images/2019/06/20/us/...  2019-06-20T22:46:01Z   \n",
       "3  https://static01.nyt.com/images/2019/05/31/art...  2019-06-03T23:41:32Z   \n",
       "4  https://cdn.cnn.com/cnnnext/dam/assets/1903311...  2019-06-24T23:24:01Z   \n",
       "\n",
       "                                             content  \n",
       "0  The day my boyfriend put giardiniera on a pizz...  \n",
       "1  An e-mail arrived in my inbox a few weeks ago,...  \n",
       "2  Texans have a hard time supplying a definitive...  \n",
       "3  I was trying just not to dwell on it, Boettche...  \n",
       "4  Chat with us in Facebook Messenger. Find out w...  "
      ]
     },
     "execution_count": 5,
     "metadata": {},
     "output_type": "execute_result"
    }
   ],
   "source": [
    "data = pd.concat([data.drop(['articles'], axis=1), data['articles'].apply(pd.Series)], axis=1)\n",
    "data.head()"
   ]
  },
  {
   "cell_type": "code",
   "execution_count": 6,
   "metadata": {},
   "outputs": [],
   "source": [
    "data.to_csv(\"clean_news.csv\")"
   ]
  },
  {
   "cell_type": "code",
   "execution_count": 7,
   "metadata": {},
   "outputs": [],
   "source": [
    "def get_source(a):\n",
    "    b = a.split(\":\")[2].split(\"'\")[1]\n",
    "    return b"
   ]
  },
  {
   "cell_type": "code",
   "execution_count": 8,
   "metadata": {},
   "outputs": [],
   "source": [
    "data['source'] = data['source'].astype(str).apply(get_source)"
   ]
  },
  {
   "cell_type": "code",
   "execution_count": 9,
   "metadata": {},
   "outputs": [],
   "source": [
    "data = data[['publishedAt', 'source', 'title', 'description', 'content']]"
   ]
  },
  {
   "cell_type": "code",
   "execution_count": 10,
   "metadata": {},
   "outputs": [],
   "source": [
    "data.to_csv(\"clean_news.csv\")"
   ]
  }
 ],
 "metadata": {
  "kernelspec": {
   "display_name": "Python 3",
   "language": "python",
   "name": "python3"
  },
  "language_info": {
   "codemirror_mode": {
    "name": "ipython",
    "version": 3
   },
   "file_extension": ".py",
   "mimetype": "text/x-python",
   "name": "python",
   "nbconvert_exporter": "python",
   "pygments_lexer": "ipython3",
   "version": "3.7.0"
  }
 },
 "nbformat": 4,
 "nbformat_minor": 2
}
